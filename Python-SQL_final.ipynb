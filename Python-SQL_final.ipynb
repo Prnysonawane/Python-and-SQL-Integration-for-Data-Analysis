{
 "cells": [
  {
   "cell_type": "markdown",
   "metadata": {},
   "source": [
    "# Integration of SQL in Python"
   ]
  },
  {
   "cell_type": "markdown",
   "metadata": {},
   "source": [
    "Integrating SQL (Structured Query Language) with Python involves connecting your Python code to a database, enabling you to perform database operations like querying, inserting, updating, and deleting data directly from your Python scripts. This integration offers a powerful combination of Python's data analysis capabilities and SQL's structured data management strengths.\n",
    "\n"
   ]
  },
  {
   "cell_type": "markdown",
   "metadata": {},
   "source": [
    "There are Two Approches to Connect MySQl Database to Python. \n",
    "1. mysql-connector-python \n",
    "2. pymysql"
   ]
  },
  {
   "cell_type": "markdown",
   "metadata": {},
   "source": [
    "* To Connect SQL in python the first thing we need to install the mysql-connector-python Library so we can connect it to our SQL server."
   ]
  },
  {
   "cell_type": "code",
   "execution_count": 2,
   "metadata": {},
   "outputs": [],
   "source": [
    "import pandas as pd \n",
    "import numpy as np\n",
    "import warnings\n",
    "warnings.filterwarnings('ignore')"
   ]
  },
  {
   "cell_type": "code",
   "execution_count": 3,
   "metadata": {},
   "outputs": [],
   "source": [
    "#!pip install mysql-connector-python     \n"
   ]
  },
  {
   "cell_type": "code",
   "execution_count": 4,
   "metadata": {},
   "outputs": [],
   "source": [
    "import mysql.connector #importing the Connector which we have downloded."
   ]
  },
  {
   "cell_type": "code",
   "execution_count": 5,
   "metadata": {},
   "outputs": [],
   "source": [
    "mydb = mysql.connector.connect(\n",
    "    host='localhost',\n",
    "    user='root',\n",
    "    password='Mysql1234',\n",
    ")                                # with the help of Connector establishing a Connection with the SQL server"
   ]
  },
  {
   "cell_type": "code",
   "execution_count": 6,
   "metadata": {},
   "outputs": [],
   "source": [
    "cur = mydb.cursor()   #cursor will work as an cursor in the SQL database or a pointer."
   ]
  },
  {
   "cell_type": "markdown",
   "metadata": {},
   "source": [
    "* cursor work as an Object so to see the out-puts we will need a iterator that's why need to use a loop.\n"
   ]
  },
  {
   "cell_type": "markdown",
   "metadata": {},
   "source": [
    "### cheking for the Databases."
   ]
  },
  {
   "cell_type": "code",
   "execution_count": 7,
   "metadata": {},
   "outputs": [],
   "source": [
    "cur.execute(\"show databases\")"
   ]
  },
  {
   "cell_type": "code",
   "execution_count": 8,
   "metadata": {},
   "outputs": [
    {
     "name": "stdout",
     "output_type": "stream",
     "text": [
      "('classicmodels',)\n",
      "('ecommerce',)\n",
      "('information_schema',)\n",
      "('mysql',)\n",
      "('performance_schema',)\n",
      "('sys',)\n"
     ]
    }
   ],
   "source": [
    "for i in cur:\n",
    "    print(i)"
   ]
  },
  {
   "cell_type": "markdown",
   "metadata": {},
   "source": [
    "* we need to run loop becasue we need to print each and every value that meets the sql query or condition"
   ]
  },
  {
   "cell_type": "markdown",
   "metadata": {},
   "source": [
    "# Checking tables in database"
   ]
  },
  {
   "cell_type": "code",
   "execution_count": 9,
   "metadata": {},
   "outputs": [],
   "source": [
    "cur.execute(\"SHOW TABLES FROM ecommerce\")"
   ]
  },
  {
   "cell_type": "code",
   "execution_count": 10,
   "metadata": {},
   "outputs": [
    {
     "name": "stdout",
     "output_type": "stream",
     "text": [
      "('categories',)\n",
      "('customers',)\n",
      "('order_items',)\n",
      "('orders',)\n",
      "('products',)\n",
      "('shipping_details',)\n"
     ]
    }
   ],
   "source": [
    "for i in cur:\n",
    "    print(i)"
   ]
  },
  {
   "cell_type": "code",
   "execution_count": 11,
   "metadata": {},
   "outputs": [],
   "source": [
    "mydb = mysql.connector.connect(\n",
    "    host='localhost',\n",
    "    user='root',\n",
    "    password='Mysql1234',\n",
    "    database = 'ecommerce'\n",
    ")     # when you pass the Database it will use/ Connect the database for ex - e-commerce."
   ]
  },
  {
   "cell_type": "markdown",
   "metadata": {},
   "source": [
    "#### Using Where Clause "
   ]
  },
  {
   "cell_type": "code",
   "execution_count": 12,
   "metadata": {},
   "outputs": [
    {
     "name": "stdout",
     "output_type": "stream",
     "text": [
      "(324, 'Stylish Desk Decors, Co.', 'Brown', 'Ann ', '(171) 555-0297', '35 King George', None, 'London', None, 'WX3 6FW', 'UK', 1501, Decimal('77000.00'))\n",
      "(489, 'Double Decker Gift Stores, Ltd', 'Smith', 'Thomas ', '(171) 555-7555', '120 Hanover Sq.', None, 'London', None, 'WA1 1DP', 'UK', 1501, Decimal('43300.00'))\n"
     ]
    }
   ],
   "source": [
    "import mysql.connector\n",
    "\n",
    "# Database connection details\n",
    "mydb = mysql.connector.connect(\n",
    "   host = 'localhost',\n",
    "    user = 'root',\n",
    "    password = 'Mysql1234',\n",
    "    database = 'classicmodels'\n",
    "    )\n",
    "\n",
    "mycursor = mydb.cursor()\n",
    "\n",
    "# Sample SQL query\n",
    "sql = \"SELECT * FROM customers WHERE city = 'London'\"\n",
    "\n",
    "try:\n",
    "    mycursor.execute(sql)\n",
    "    myresult = mycursor.fetchall()\n",
    "\n",
    "    # Print results\n",
    "    # we need to run loop becasue we need to print each and every value that meets the sql query or condition\n",
    "    for row in myresult:\n",
    "        print(row)\n",
    "\n",
    "except mysql.connector.Error as err:\n",
    "    print(\"Error:\", err)\n",
    "\n",
    "finally:\n",
    "    mycursor.close()\n",
    "    mydb.close()"
   ]
  },
  {
   "cell_type": "code",
   "execution_count": 13,
   "metadata": {},
   "outputs": [],
   "source": [
    "myresult = pd.DataFrame(myresult)\n"
   ]
  },
  {
   "cell_type": "code",
   "execution_count": 14,
   "metadata": {},
   "outputs": [
    {
     "data": {
      "text/html": [
       "<div>\n",
       "<style scoped>\n",
       "    .dataframe tbody tr th:only-of-type {\n",
       "        vertical-align: middle;\n",
       "    }\n",
       "\n",
       "    .dataframe tbody tr th {\n",
       "        vertical-align: top;\n",
       "    }\n",
       "\n",
       "    .dataframe thead th {\n",
       "        text-align: right;\n",
       "    }\n",
       "</style>\n",
       "<table border=\"1\" class=\"dataframe\">\n",
       "  <thead>\n",
       "    <tr style=\"text-align: right;\">\n",
       "      <th></th>\n",
       "      <th>0</th>\n",
       "      <th>1</th>\n",
       "      <th>2</th>\n",
       "      <th>3</th>\n",
       "      <th>4</th>\n",
       "      <th>5</th>\n",
       "      <th>6</th>\n",
       "      <th>7</th>\n",
       "      <th>8</th>\n",
       "      <th>9</th>\n",
       "      <th>10</th>\n",
       "      <th>11</th>\n",
       "      <th>12</th>\n",
       "    </tr>\n",
       "  </thead>\n",
       "  <tbody>\n",
       "    <tr>\n",
       "      <th>0</th>\n",
       "      <td>324</td>\n",
       "      <td>Stylish Desk Decors, Co.</td>\n",
       "      <td>Brown</td>\n",
       "      <td>Ann</td>\n",
       "      <td>(171) 555-0297</td>\n",
       "      <td>35 King George</td>\n",
       "      <td>None</td>\n",
       "      <td>London</td>\n",
       "      <td>None</td>\n",
       "      <td>WX3 6FW</td>\n",
       "      <td>UK</td>\n",
       "      <td>1501</td>\n",
       "      <td>77000.00</td>\n",
       "    </tr>\n",
       "    <tr>\n",
       "      <th>1</th>\n",
       "      <td>489</td>\n",
       "      <td>Double Decker Gift Stores, Ltd</td>\n",
       "      <td>Smith</td>\n",
       "      <td>Thomas</td>\n",
       "      <td>(171) 555-7555</td>\n",
       "      <td>120 Hanover Sq.</td>\n",
       "      <td>None</td>\n",
       "      <td>London</td>\n",
       "      <td>None</td>\n",
       "      <td>WA1 1DP</td>\n",
       "      <td>UK</td>\n",
       "      <td>1501</td>\n",
       "      <td>43300.00</td>\n",
       "    </tr>\n",
       "  </tbody>\n",
       "</table>\n",
       "</div>"
      ],
      "text/plain": [
       "    0                               1      2        3               4   \\\n",
       "0  324        Stylish Desk Decors, Co.  Brown     Ann   (171) 555-0297   \n",
       "1  489  Double Decker Gift Stores, Ltd  Smith  Thomas   (171) 555-7555   \n",
       "\n",
       "                5     6       7     8        9   10    11        12  \n",
       "0   35 King George  None  London  None  WX3 6FW  UK  1501  77000.00  \n",
       "1  120 Hanover Sq.  None  London  None  WA1 1DP  UK  1501  43300.00  "
      ]
     },
     "execution_count": 14,
     "metadata": {},
     "output_type": "execute_result"
    }
   ],
   "source": [
    "myresult "
   ]
  },
  {
   "cell_type": "markdown",
   "metadata": {},
   "source": [
    "#### Using Order BY "
   ]
  },
  {
   "cell_type": "code",
   "execution_count": 15,
   "metadata": {},
   "outputs": [
    {
     "name": "stdout",
     "output_type": "stream",
     "text": [
      "(242, 'Alpha Cognac', 'Roulet', 'Annette ', '61.77.6555', '1 rue Alsace-Lorraine', None, 'Toulouse', None, '31000', 'France', 1370, Decimal('61100.00'))\n",
      "(168, 'American Souvenirs Inc', 'Franco', 'Keith', '2035557845', '149 Spinnaker Dr.', 'Suite 101', 'New Haven', 'CT', '97823', 'USA', 1286, Decimal('0.00'))\n",
      "(249, 'Amica Models & Co.', 'Accorti', 'Paolo ', '011-4988555', 'Via Monte Bianco 34', None, 'Torino', None, '10100', 'Italy', 1401, Decimal('113000.00'))\n",
      "(237, 'ANG Resellers', 'Camino', 'Alejandra ', '(91) 745 6555', 'Gran Vía, 1', None, 'Madrid', None, '28001', 'Spain', None, Decimal('0.00'))\n",
      "(276, \"Anna's Decorations, Ltd\", \"O'Hara\", 'Anna', '02 9936 8555', '201 Miller Street', 'Level 15', 'North Sydney', 'NSW', '2060', 'Australia', 1611, Decimal('107800.00'))\n",
      "(465, 'Anton Designs, Ltd.', 'Anton', 'Carmen', '+34 913 728555', 'c/ Gobelas, 19-1 Urb. La Florida', None, 'Madrid', None, '28023', 'Spain', None, Decimal('0.00'))\n",
      "(206, 'Asian Shopping Network, Co', 'Walker', 'Brydey', '+612 9411 1555', 'Suntec Tower Three', '8 Temasek', 'Singapore', None, '038988', 'Singapore', None, Decimal('0.00'))\n",
      "(348, 'Asian Treasures, Inc.', 'McKenna', 'Patricia ', '2967 555', '8 Johnstown Road', None, 'Cork', 'Co. Cork', None, 'Ireland', None, Decimal('0.00'))\n",
      "(103, 'Atelier graphique', 'Schmitt', 'Carine ', '40.32.2555', '54, rue Royale', None, 'Nantes', None, '44000', 'France', 1370, Decimal('21000.00'))\n",
      "(471, 'Australian Collectables, Ltd', 'Clenahan', 'Sean', '61-9-3844-6555', '7 Allen Street', None, 'Glen Waverly', 'Victoria', '3150', 'Australia', 1611, Decimal('60300.00'))\n",
      "(114, 'Australian Collectors, Co.', 'Ferguson', 'Peter', '03 9520 4555', '636 St Kilda Road', 'Level 3', 'Melbourne', 'Victoria', '3004', 'Australia', 1611, Decimal('117300.00'))\n",
      "(333, 'Australian Gift Network, Co', 'Calaghan', 'Ben', '61-7-3844-6555', '31 Duncan St. West End', None, 'South Brisbane', 'Queensland', '4101', 'Australia', 1611, Decimal('51600.00'))\n",
      "(256, 'Auto Associés & Cie.', 'Tonini', 'Daniel ', '30.59.8555', \"67, avenue de l'Europe\", None, 'Versailles', None, '78000', 'France', 1370, Decimal('77900.00'))\n",
      "(406, 'Auto Canal+ Petit', 'Perrier', 'Dominique', '(1) 47.55.6555', '25, rue Lauriston', None, 'Paris', None, '75016', 'France', 1337, Decimal('95000.00'))\n",
      "(198, 'Auto-Moto Classics Inc.', 'Taylor', 'Leslie', '6175558428', '16780 Pompton St.', None, 'Brickhaven', 'MA', '58339', 'USA', 1216, Decimal('23000.00'))\n",
      "(187, 'AV Stores, Co.', 'Ashworth', 'Rachel', '(171) 555-1555', 'Fauntleroy Circus', None, 'Manchester', None, 'EC2 5NT', 'UK', 1501, Decimal('136800.00'))\n",
      "(121, 'Baane Mini Imports', 'Bergulfsen', 'Jonas ', '07-98 9555', 'Erling Skakkes gate 78', None, 'Stavern', None, '4110', 'Norway', 1504, Decimal('81700.00'))\n",
      "(415, 'Bavarian Collectables Imports, Co.', 'Donnermeyer', 'Michael', ' +49 89 61 08 9555', 'Hansastr. 15', None, 'Munich', None, '80686', 'Germany', 1504, Decimal('77000.00'))\n",
      "(293, 'BG&E Collectables', 'Harrison', 'Ed', '+41 26 425 50 01', 'Rte des Arsenaux 41 ', None, 'Fribourg', None, '1700', 'Switzerland', None, Decimal('0.00'))\n",
      "(128, 'Blauer See Auto, Co.', 'Keitel', 'Roland', '+49 69 66 90 2555', 'Lyonerstr. 34', None, 'Frankfurt', None, '60528', 'Germany', 1504, Decimal('59700.00'))\n",
      "(219, 'Boards & Toys Co.', 'Young', 'Mary', '3105552373', '4097 Douglas Av.', None, 'Glendale', 'CA', '92561', 'USA', 1166, Decimal('11000.00'))\n",
      "(344, 'CAF Imports', 'Fernandez', 'Jesus', '+34 913 728 555', 'Merchants House', \"27-30 Merchant's Quay\", 'Madrid', None, '28023', 'Spain', 1702, Decimal('59600.00'))\n",
      "(173, 'Cambridge Collectables Co.', 'Tseng', 'Jerry', '6175555555', '4658 Baden Av.', None, 'Cambridge', 'MA', '51247', 'USA', 1188, Decimal('43400.00'))\n",
      "(202, 'Canadian Gift Exchange Network', 'Tamuri', 'Yoshi ', '(604) 555-3392', '1900 Oak St.', None, 'Vancouver', 'BC', 'V3F 2K1', 'Canada', 1323, Decimal('90300.00'))\n",
      "(339, 'Classic Gift Ideas, Inc', 'Cervantes', 'Francisca', '2155554695', '782 First Street', None, 'Philadelphia', 'PA', '71270', 'USA', 1188, Decimal('81100.00'))\n",
      "(424, 'Classic Legends Inc.', 'Hernandez', 'Maria', '2125558493', '5905 Pompton St.', 'Suite 750', 'NYC', 'NY', '10022', 'USA', 1286, Decimal('67500.00'))\n",
      "(189, 'Clover Collections, Co.', 'Cassidy', 'Dean', '+353 1862 1555', '25 Maiden Lane', 'Floor No. 4', 'Dublin', None, '2', 'Ireland', 1504, Decimal('69400.00'))\n",
      "(239, 'Collectable Mini Designs Co.', 'Thompson', 'Valarie', '7605558146', '361 Furth Circle', None, 'San Diego', 'CA', '91217', 'USA', 1166, Decimal('105000.00'))\n",
      "(379, 'Collectables For Less Inc.', 'Nelson', 'Allen', '6175558555', '7825 Douglas Av.', None, 'Brickhaven', 'MA', '58339', 'USA', 1188, Decimal('70700.00'))\n",
      "(321, 'Corporate Gift Ideas Co.', 'Brown', 'Julie', '6505551386', '7734 Strong St.', None, 'San Francisco', 'CA', '94217', 'USA', 1165, Decimal('105000.00'))\n",
      "(458, 'Corrida Auto Replicas, Ltd', 'Sommer', 'Martín ', '(91) 555 22 82', 'C/ Araquil, 67', None, 'Madrid', None, '28023', 'Spain', 1702, Decimal('104600.00'))\n",
      "(335, 'Cramer Spezialitäten, Ltd', 'Cramer', 'Philip ', '0555-09555', 'Maubelstr. 90', None, 'Brandenburg', None, '14776', 'Germany', None, Decimal('0.00'))\n",
      "(385, 'Cruz & Sons Co.', 'Cruz', 'Arnold', '+63 2 555 3587', '15 McCallum Street', 'NatWest Center #13-03', 'Makati City', None, '1227 MM', 'Philippines', 1621, Decimal('81500.00'))\n",
      "(171, 'Daedalus Designs Imports', 'Rancé', 'Martine ', '20.16.1555', '184, chaussée de Tournai', None, 'Lille', None, '59000', 'France', 1370, Decimal('82900.00'))\n",
      "(145, 'Danish Wholesale Imports', 'Petersen', 'Jytte ', '31 12 3555', 'Vinbæltet 34', None, 'Kobenhavn', None, '1734', 'Denmark', 1401, Decimal('83400.00'))\n",
      "(307, 'Der Hund Imports', 'Andersen', 'Mel', '030-0074555', 'Obere Str. 57', None, 'Berlin', None, '12209', 'Germany', None, Decimal('0.00'))\n",
      "(157, 'Diecast Classics Inc.', 'Leong', 'Kelvin', '2155551555', '7586 Pompton St.', None, 'Allentown', 'PA', '70267', 'USA', 1216, Decimal('100600.00'))\n",
      "(495, 'Diecast Collectables', 'Franco', 'Valarie', '6175552555', '6251 Ingle Ln.', None, 'Boston', 'MA', '51003', 'USA', 1188, Decimal('85100.00'))\n",
      "(489, 'Double Decker Gift Stores, Ltd', 'Smith', 'Thomas ', '(171) 555-7555', '120 Hanover Sq.', None, 'London', None, 'WA1 1DP', 'UK', 1501, Decimal('43300.00'))\n",
      "(323, 'Down Under Souveniers, Inc', 'Graham', 'Mike', '+64 9 312 5555', '162-164 Grafton Road', 'Level 2', 'Auckland  ', None, None, 'New Zealand', 1612, Decimal('88000.00'))\n",
      "(148, 'Dragon Souveniers, Ltd.', 'Natividad', 'Eric', '+65 221 7555', 'Bronz Sok.', 'Bronz Apt. 3/6 Tesvikiye', 'Singapore', None, '079903', 'Singapore', 1621, Decimal('103800.00'))\n",
      "(216, 'Enaco Distributors', 'Saavedra', 'Eduardo ', '(93) 203 4555', 'Rambla de Cataluña, 23', None, 'Barcelona', None, '08022', 'Spain', 1702, Decimal('60300.00'))\n",
      "(141, 'Euro+ Shopping Channel', 'Freyre', 'Diego ', '(91) 555 94 44', 'C/ Moralzarzal, 86', None, 'Madrid', None, '28034', 'Spain', 1370, Decimal('227600.00'))\n",
      "(412, 'Extreme Desk Decorations, Ltd', 'McRoy', 'Sarah', '04 499 9555', '101 Lambton Quay', 'Level 11', 'Wellington', None, None, 'New Zealand', 1612, Decimal('86800.00'))\n",
      "(443, 'Feuer Online Stores, Inc', 'Feuer', 'Alexander ', '0342-555176', 'Heerstr. 22', None, 'Leipzig', None, '04179', 'Germany', None, Decimal('0.00'))\n",
      "(273, 'Franken Gifts, Co', 'Franken', 'Peter ', '089-0877555', 'Berliner Platz 43', None, 'München', None, '80805', 'Germany', None, Decimal('0.00'))\n",
      "(473, 'Frau da Collezione', 'Ricotti', 'Franco', '+39 022515555', '20093 Cologno Monzese', 'Alessandro Volta 16', 'Milan', None, None, 'Italy', 1401, Decimal('34800.00'))\n",
      "(462, 'FunGiftIdeas.com', 'Benitez', 'Violeta', '5085552555', '1785 First Street', None, 'New Bedford', 'MA', '50553', 'USA', 1216, Decimal('85800.00'))\n",
      "(175, 'Gift Depot Inc.', 'King', 'Julie', '2035552570', '25593 South Bay Ln.', None, 'Bridgewater', 'CT', '97562', 'USA', 1323, Decimal('84300.00'))\n",
      "(447, 'Gift Ideas Corp.', 'Lewis', 'Dan', '2035554407', '2440 Pompton St.', None, 'Glendale', 'CT', '97561', 'USA', 1323, Decimal('49700.00'))\n",
      "(362, 'Gifts4AllAges.com', 'Yoshido', 'Juri', '6175559555', '8616 Spinnaker Dr.', None, 'Boston', 'MA', '51003', 'USA', 1216, Decimal('41900.00'))\n",
      "(240, 'giftsbymail.co.uk', 'Bennett', 'Helen ', '(198) 555-8888', 'Garden House', 'Crowther Way 23', 'Cowes', 'Isle of Wight', 'PO31 7PJ', 'UK', 1501, Decimal('93900.00'))\n",
      "(357, 'GiftsForHim.com', 'MacKinlay', 'Wales', '64-9-3763555', '199 Great North Road', None, 'Auckland', None, None, 'New Zealand', 1612, Decimal('77700.00'))\n",
      "(166, 'Handji Gifts& Co', 'Victorino', 'Wendy', '+65 224 1555', '106 Linden Road Sandown', '2nd Floor', 'Singapore', None, '069045', 'Singapore', 1612, Decimal('97900.00'))\n",
      "(125, 'Havel & Zbyszek Co', 'Piestrzeniewicz', 'Zbyszek ', '(26) 642-7555', 'ul. Filtrowa 68', None, 'Warszawa', None, '01-012', 'Poland', None, Decimal('0.00'))\n",
      "(227, 'Heintze Collectables', 'Ibsen', 'Palle', '86 21 3555', 'Smagsloget 45', None, 'Århus', None, '8200', 'Denmark', 1401, Decimal('120800.00'))\n",
      "(167, 'Herkku Gifts', 'Oeztan', 'Veysel', '+47 2267 3215', 'Brehmen St. 121', 'PR 334 Sentrum', 'Bergen', None, 'N 5804', 'Norway  ', 1504, Decimal('96800.00'))\n",
      "(484, 'Iberia Gift Imports, Corp.', 'Roel', 'José Pedro ', '(95) 555 82 82', 'C/ Romero, 33', None, 'Sevilla', None, '41101', 'Spain', 1702, Decimal('65700.00'))\n",
      "(496, \"Kelly's Gift Shop\", 'Snowden', 'Tony', '+64 9 5555500', \"Arenales 1938 3'A'\", None, 'Auckland  ', None, None, 'New Zealand', 1612, Decimal('110000.00'))\n",
      "(211, 'King Kong Collectables, Co.', 'Gao', 'Mike', '+852 2251 1555', 'Bank of China Tower', '1 Garden Road', 'Central Hong Kong', None, None, 'Hong Kong', 1621, Decimal('58600.00'))\n",
      "(361, 'Kommission Auto', 'Josephs', 'Karin', '0251-555259', 'Luisenstr. 48', None, 'Münster', None, '44087', 'Germany', None, Decimal('0.00'))\n",
      "(480, 'Kremlin Collectables, Co.', 'Semenov', 'Alexander ', '+7 812 293 0521', '2 Pobedy Square', None, 'Saint Petersburg', None, '196143', 'Russia', None, Decimal('0.00'))\n",
      "(386, \"L'ordine Souveniers\", 'Moroni', 'Maurizio ', '0522-556555', 'Strada Provinciale 124', None, 'Reggio Emilia', None, '42100', 'Italy', 1401, Decimal('121400.00'))\n",
      "(172, \"La Corne D'abondance, Co.\", 'Bertrand', 'Marie', '(1) 42.34.2555', '265, boulevard Charonne', None, 'Paris', None, '75012', 'France', 1337, Decimal('84300.00'))\n",
      "(119, 'La Rochelle Gifts', 'Labrune', 'Janine ', '40.67.8555', '67, rue des Cinquante Otages', None, 'Nantes', None, '44000', 'France', 1370, Decimal('118200.00'))\n",
      "(131, 'Land of Toys Inc.', 'Lee', 'Kwai', '2125557818', '897 Long Airport Avenue', None, 'NYC', 'NY', '10022', 'USA', 1323, Decimal('114900.00'))\n",
      "(369, 'Lisboa Souveniers, Inc', 'Rodriguez', 'Lino ', '(1) 354-2555', 'Jardim das rosas n. 32', None, 'Lisboa', None, '1675', 'Portugal', None, Decimal('0.00'))\n",
      "(250, 'Lyon Souveniers', 'Da Silva', 'Daniel', '+33 1 46 62 7555', '27 rue du Colonel Pierre Avia', None, 'Paris', None, '75508', 'France', 1337, Decimal('68100.00'))\n",
      "(350, 'Marseille Mini Autos', 'Lebihan', 'Laurence ', '91.24.4555', '12, rue des Bouchers', None, 'Marseille', None, '13008', 'France', 1337, Decimal('65000.00'))\n",
      "(286, \"Marta's Replicas Co.\", 'Hernandez', 'Marta', '6175558555', '39323 Spinnaker Dr.', None, 'Cambridge', 'MA', '51247', 'USA', 1216, Decimal('123700.00'))\n",
      "(347, \"Men 'R' US Retailers, Ltd.\", 'Chandler', 'Brian', '2155554369', '6047 Douglas Av.', None, 'Los Angeles', 'CA', '91003', 'USA', 1166, Decimal('57700.00'))\n",
      "(247, 'Messner Shopping Network', 'Messner', 'Renate ', '069-0555984', 'Magazinweg 7', None, 'Frankfurt', None, '60528', 'Germany', None, Decimal('0.00'))\n",
      "(456, 'Microscale Inc.', 'Choi', 'Yu', '2125551957', '5290 North Pendale Street', 'Suite 200', 'NYC', 'NY', '10022', 'USA', 1286, Decimal('39800.00'))\n",
      "(452, 'Mini Auto Werke', 'Mendel', 'Roland ', '7675-3555', 'Kirchgasse 6', None, 'Graz', None, '8010', 'Austria', 1401, Decimal('45300.00'))\n",
      "(209, 'Mini Caravy', 'Citeaux', 'Frédérique ', '88.60.1555', '24, place Kléber', None, 'Strasbourg', None, '67000', 'France', 1370, Decimal('53800.00'))\n",
      "(319, 'Mini Classics', 'Frick', 'Steve', '9145554562', '3758 North Pendale Street', None, 'White Plains', 'NY', '24067', 'USA', 1323, Decimal('102700.00'))\n",
      "(320, 'Mini Creations Ltd.', 'Huang', 'Wing', '5085559555', '4575 Hillside Dr.', None, 'New Bedford', 'MA', '50553', 'USA', 1188, Decimal('94500.00'))\n",
      "(124, 'Mini Gifts Distributors Ltd.', 'Nelson', 'Susan', '4155551450', '5677 Strong St.', None, 'San Rafael', 'CA', '97562', 'USA', 1165, Decimal('210500.00'))\n",
      "(129, 'Mini Wheels Co.', 'Murphy', 'Julie', '6505555787', '5557 North Pendale Street', None, 'San Francisco', 'CA', '94217', 'USA', 1165, Decimal('64600.00'))\n",
      "(477, 'Mit Vergnügen & Co.', 'Moos', 'Hanna ', '0621-08555', 'Forsterstr. 57', None, 'Mannheim', None, '68306', 'Germany', None, Decimal('0.00'))\n",
      "(486, 'Motor Mint Distributors Inc.', 'Salazar', 'Rosa', '2155559857', '11328 Douglas Av.', None, 'Philadelphia', 'PA', '71270', 'USA', 1323, Decimal('72600.00'))\n",
      "(151, 'Muscle Machine Inc', 'Young', 'Jeff', '2125557413', '4092 Furth Circle', 'Suite 400', 'NYC', 'NY', '10022', 'USA', 1286, Decimal('138500.00'))\n",
      "(223, 'Natürlich Autos', 'Kloss', 'Horst ', '0372-555188', 'Taucherstraße 10', None, 'Cunewalde', None, '01307', 'Germany', None, Decimal('0.00'))\n",
      "(299, 'Norway Gifts By Mail, Co.', 'Klaeboe', 'Jan', '+47 2212 1555', 'Drammensveien 126A', 'PB 211 Sentrum', 'Oslo', None, 'N 0106', 'Norway  ', 1504, Decimal('95100.00'))\n",
      "(363, 'Online Diecast Creations Co.', 'Young', 'Dorothy', '6035558647', '2304 Long Airport Avenue', None, 'Nashua', 'NH', '62005', 'USA', 1216, Decimal('114200.00'))\n",
      "(204, 'Online Mini Collectables', 'Barajas', 'Miguel', '6175557555', '7635 Spinnaker Dr.', None, 'Brickhaven', 'MA', '58339', 'USA', 1188, Decimal('68700.00'))\n",
      "(177, 'Osaka Souveniers Co.', 'Kentary', 'Mory', '+81 06 6342 5555', '1-6-20 Dojima', None, 'Kita-ku', 'Osaka', ' 530-0003', 'Japan', 1621, Decimal('81200.00'))\n",
      "(311, 'Oulu Toy Supplies, Inc.', 'Koskitalo', 'Pirkko', '981-443655', 'Torikatu 38', None, 'Oulu', None, '90110', 'Finland', 1501, Decimal('90500.00'))\n",
      "(314, 'Petit Auto', 'Dewey', 'Catherine ', '(02) 5554 67', 'Rue Joseph-Bens 532', None, 'Bruxelles', None, 'B-1180', 'Belgium', 1401, Decimal('79900.00'))\n",
      "(169, 'Porto Imports Co.', 'de Castro', 'Isabel ', '(1) 356-5555', 'Estrada da saúde n. 58', None, 'Lisboa', None, '1756', 'Portugal', None, Decimal('0.00'))\n",
      "(376, 'Precious Collectables', 'Urs', 'Braun', '0452-076555', 'Hauptstr. 29', None, 'Bern', None, '3012', 'Switzerland', 1702, Decimal('0.00'))\n",
      "(233, 'Québec Home Shopping Network', 'Fresnière', 'Jean ', '(514) 555-8054', '43 rue St. Laurent', None, 'Montréal', 'Québec', 'H1J 1C3', 'Canada', 1286, Decimal('48700.00'))\n",
      "(481, 'Raanan Stores, Inc', 'Altagar,G M', 'Raanan', '+ 972 9 959 8555', '3 Hagalim Blv.', None, 'Herzlia', None, '47625', 'Israel', None, Decimal('0.00'))\n",
      "(353, 'Reims Collectables', 'Henriot', 'Paul ', '26.47.1555', \"59 rue de l'Abbaye\", None, 'Reims', None, '51100', 'France', 1337, Decimal('81100.00'))\n",
      "(278, 'Rovelli Gifts', 'Rovelli', 'Giovanni ', '035-640555', 'Via Ludovico il Moro 22', None, 'Bergamo', None, '24100', 'Italy', 1401, Decimal('119600.00'))\n",
      "(260, 'Royal Canadian Collectables, Ltd.', 'Lincoln', 'Elizabeth ', '(604) 555-4555', '23 Tsawassen Blvd.', None, 'Tsawassen', 'BC', 'T2F 8M4', 'Canada', 1323, Decimal('89600.00'))\n",
      "(381, 'Royale Belge', 'Cartrain', 'Pascale ', '(071) 23 67 2555', 'Boulevard Tirou, 255', None, 'Charleroi', None, 'B-6000', 'Belgium', 1401, Decimal('23500.00'))\n",
      "(382, 'Salzburg Collectables', 'Pipps', 'Georg ', '6562-9555', 'Geislweg 14', None, 'Salzburg', None, '5020', 'Austria', 1401, Decimal('71700.00'))\n",
      "(356, 'SAR Distributors, Co', 'Kuger', 'Armand', '+27 21 550 3555', '1250 Pretorius Street', None, 'Hatfield', 'Pretoria', '0028', 'South Africa', None, Decimal('0.00'))\n",
      "(146, 'Saveley & Henriot, Co.', 'Saveley', 'Mary ', '78.32.5555', '2, rue du Commerce', None, 'Lyon', None, '69004', 'France', 1337, Decimal('123900.00'))\n",
      "(448, 'Scandinavian Gift Ideas', 'Larsson', 'Martha', '0695-34 6555', 'Åkergatan 24', None, 'Bräcke', None, 'S-844 67', 'Sweden', 1504, Decimal('116400.00'))\n",
      "(303, 'Schuyler Imports', 'Schuyler', 'Bradley', '+31 20 491 9555', 'Kingsfordweg 151', None, 'Amsterdam', None, '1043 GR', 'Netherlands', None, Decimal('0.00'))\n",
      "(487, 'Signal Collectibles Ltd.', 'Taylor', 'Sue', '4155554312', '2793 Furth Circle', None, 'Brisbane', 'CA', '94217', 'USA', 1165, Decimal('60300.00'))\n",
      "(112, 'Signal Gift Stores', 'King', 'Jean', '7025551838', '8489 Strong St.', None, 'Las Vegas', 'NV', '83030', 'USA', 1166, Decimal('71800.00'))\n",
      "(282, 'Souveniers And Things Co.', 'Huxley', 'Adrian', '+61 2 9495 8555', 'Monitor Money Building', '815 Pacific Hwy', 'Chatswood', 'NSW', '2067', 'Australia', 1611, Decimal('93300.00'))\n",
      "(409, 'Stuttgart Collectable Exchange', 'Müller', 'Rita ', '0711-555361', 'Adenauerallee 900', None, 'Stuttgart', None, '70563', 'Germany', None, Decimal('0.00'))\n",
      "(324, 'Stylish Desk Decors, Co.', 'Brown', 'Ann ', '(171) 555-0297', '35 King George', None, 'London', None, 'WX3 6FW', 'UK', 1501, Decimal('77000.00'))\n",
      "(334, 'Suominen Souveniers', 'Suominen', 'Kalle', '+358 9 8045 555', 'Software Engineering Center', 'SEC Oy', 'Espoo', None, 'FIN-02271', 'Finland', 1501, Decimal('98800.00'))\n",
      "(455, 'Super Scale Inc.', 'Murphy', 'Leslie', '2035559545', '567 North Pendale Street', None, 'New Haven', 'CT', '97823', 'USA', 1286, Decimal('95400.00'))\n",
      "(161, 'Technics Stores Inc.', 'Hashimoto', 'Juri', '6505556809', '9408 Furth Circle', None, 'Burlingame', 'CA', '94217', 'USA', 1165, Decimal('84600.00'))\n",
      "(328, 'Tekni Collectables Inc.', 'Brown', 'William', '2015559350', '7476 Moss Rd.', None, 'Newark', 'NJ', '94019', 'USA', 1323, Decimal('43000.00'))\n",
      "(450, 'The Sharp Gifts Warehouse', 'Frick', 'Sue', '4085553659', '3086 Ingle Ln.', None, 'San Jose', 'CA', '94217', 'USA', 1165, Decimal('77600.00'))\n",
      "(398, 'Tokyo Collectables, Ltd', 'Shimamura', 'Akiko', '+81 3 3584 0555', '2-2-8 Roppongi', None, 'Minato-ku', 'Tokyo', '106-0032', 'Japan', 1621, Decimal('94400.00'))\n",
      "(259, 'Toms Spezialitäten, Ltd', 'Pfalzheim', 'Henriette ', '0221-5554327', 'Mehrheimerstr. 369', None, 'Köln', None, '50739', 'Germany', 1504, Decimal('120400.00'))\n",
      "(186, 'Toys of Finland, Co.', 'Karttunen', 'Matti', '90-224 8555', 'Keskuskatu 45', None, 'Helsinki', None, '21240', 'Finland', 1501, Decimal('96500.00'))\n",
      "(205, 'Toys4GrownUps.com', 'Young', 'Julie', '6265557265', '78934 Hillside Dr.', None, 'Pasadena', 'CA', '90003', 'USA', 1166, Decimal('90700.00'))\n",
      "(201, 'UK Collectables, Ltd.', 'Devon', 'Elizabeth', '(171) 555-2282', '12, Berkeley Gardens Blvd', None, 'Liverpool', None, 'WX1 6LT', 'UK', 1501, Decimal('92700.00'))\n",
      "(298, 'Vida Sport, Ltd', 'Holz', 'Mihael', '0897-034555', 'Grenzacherweg 237', None, 'Genève', None, '1203', 'Switzerland', 1702, Decimal('141300.00'))\n",
      "(181, 'Vitachrome Inc.', 'Frick', 'Michael', '2125551500', '2678 Kingston Rd.', 'Suite 101', 'NYC', 'NY', '10022', 'USA', 1286, Decimal('76400.00'))\n",
      "(144, 'Volvo Model Replicas, Co', 'Berglund', 'Christina ', '0921-12 3555', 'Berguvsvägen  8', None, 'Luleå', None, 'S-958 22', 'Sweden', 1504, Decimal('53100.00'))\n",
      "(459, 'Warburg Exchange', 'Ottlieb', 'Sven ', '0241-039123', 'Walserweg 21', None, 'Aachen', None, '52066', 'Germany', None, Decimal('0.00'))\n",
      "(475, 'West Coast Collectables Co.', 'Thompson', 'Steve', '3105553722', '3675 Furth Circle', None, 'Burbank', 'CA', '94019', 'USA', 1166, Decimal('55400.00'))\n"
     ]
    }
   ],
   "source": [
    "import mysql.connector\n",
    "\n",
    "mydb = mysql.connector.connect(\n",
    "    host = 'localhost',\n",
    "    user = 'root',\n",
    "    password = 'Mysql1234',\n",
    "    database = 'classicmodels'\n",
    "    )\n",
    "\n",
    "mycursor = mydb.cursor()\n",
    "\n",
    "# Sort customers by name in descending order\n",
    "sql = \"SELECT * FROM customers ORDER BY customerName ASC\"\n",
    "\n",
    "try:\n",
    "    mycursor.execute(sql)\n",
    "    myresult = mycursor.fetchall()\n",
    "\n",
    "    for row in myresult:\n",
    "        print(row)\n",
    "\n",
    "except mysql.connector.Error as err:\n",
    "    print(\"Error:\", err)\n",
    "\n",
    "finally:\n",
    "    mycursor.close()\n",
    "    mydb.close()"
   ]
  },
  {
   "cell_type": "code",
   "execution_count": 16,
   "metadata": {},
   "outputs": [],
   "source": [
    "myresult = pd.DataFrame(myresult)\n"
   ]
  },
  {
   "cell_type": "code",
   "execution_count": 17,
   "metadata": {},
   "outputs": [
    {
     "data": {
      "text/html": [
       "<div>\n",
       "<style scoped>\n",
       "    .dataframe tbody tr th:only-of-type {\n",
       "        vertical-align: middle;\n",
       "    }\n",
       "\n",
       "    .dataframe tbody tr th {\n",
       "        vertical-align: top;\n",
       "    }\n",
       "\n",
       "    .dataframe thead th {\n",
       "        text-align: right;\n",
       "    }\n",
       "</style>\n",
       "<table border=\"1\" class=\"dataframe\">\n",
       "  <thead>\n",
       "    <tr style=\"text-align: right;\">\n",
       "      <th></th>\n",
       "      <th>0</th>\n",
       "      <th>1</th>\n",
       "      <th>2</th>\n",
       "      <th>3</th>\n",
       "      <th>4</th>\n",
       "      <th>5</th>\n",
       "      <th>6</th>\n",
       "      <th>7</th>\n",
       "      <th>8</th>\n",
       "      <th>9</th>\n",
       "      <th>10</th>\n",
       "      <th>11</th>\n",
       "      <th>12</th>\n",
       "    </tr>\n",
       "  </thead>\n",
       "  <tbody>\n",
       "    <tr>\n",
       "      <th>0</th>\n",
       "      <td>242</td>\n",
       "      <td>Alpha Cognac</td>\n",
       "      <td>Roulet</td>\n",
       "      <td>Annette</td>\n",
       "      <td>61.77.6555</td>\n",
       "      <td>1 rue Alsace-Lorraine</td>\n",
       "      <td>None</td>\n",
       "      <td>Toulouse</td>\n",
       "      <td>None</td>\n",
       "      <td>31000</td>\n",
       "      <td>France</td>\n",
       "      <td>1370.0</td>\n",
       "      <td>61100.00</td>\n",
       "    </tr>\n",
       "    <tr>\n",
       "      <th>1</th>\n",
       "      <td>168</td>\n",
       "      <td>American Souvenirs Inc</td>\n",
       "      <td>Franco</td>\n",
       "      <td>Keith</td>\n",
       "      <td>2035557845</td>\n",
       "      <td>149 Spinnaker Dr.</td>\n",
       "      <td>Suite 101</td>\n",
       "      <td>New Haven</td>\n",
       "      <td>CT</td>\n",
       "      <td>97823</td>\n",
       "      <td>USA</td>\n",
       "      <td>1286.0</td>\n",
       "      <td>0.00</td>\n",
       "    </tr>\n",
       "    <tr>\n",
       "      <th>2</th>\n",
       "      <td>249</td>\n",
       "      <td>Amica Models &amp; Co.</td>\n",
       "      <td>Accorti</td>\n",
       "      <td>Paolo</td>\n",
       "      <td>011-4988555</td>\n",
       "      <td>Via Monte Bianco 34</td>\n",
       "      <td>None</td>\n",
       "      <td>Torino</td>\n",
       "      <td>None</td>\n",
       "      <td>10100</td>\n",
       "      <td>Italy</td>\n",
       "      <td>1401.0</td>\n",
       "      <td>113000.00</td>\n",
       "    </tr>\n",
       "    <tr>\n",
       "      <th>3</th>\n",
       "      <td>237</td>\n",
       "      <td>ANG Resellers</td>\n",
       "      <td>Camino</td>\n",
       "      <td>Alejandra</td>\n",
       "      <td>(91) 745 6555</td>\n",
       "      <td>Gran Vía, 1</td>\n",
       "      <td>None</td>\n",
       "      <td>Madrid</td>\n",
       "      <td>None</td>\n",
       "      <td>28001</td>\n",
       "      <td>Spain</td>\n",
       "      <td>NaN</td>\n",
       "      <td>0.00</td>\n",
       "    </tr>\n",
       "    <tr>\n",
       "      <th>4</th>\n",
       "      <td>276</td>\n",
       "      <td>Anna's Decorations, Ltd</td>\n",
       "      <td>O'Hara</td>\n",
       "      <td>Anna</td>\n",
       "      <td>02 9936 8555</td>\n",
       "      <td>201 Miller Street</td>\n",
       "      <td>Level 15</td>\n",
       "      <td>North Sydney</td>\n",
       "      <td>NSW</td>\n",
       "      <td>2060</td>\n",
       "      <td>Australia</td>\n",
       "      <td>1611.0</td>\n",
       "      <td>107800.00</td>\n",
       "    </tr>\n",
       "    <tr>\n",
       "      <th>...</th>\n",
       "      <td>...</td>\n",
       "      <td>...</td>\n",
       "      <td>...</td>\n",
       "      <td>...</td>\n",
       "      <td>...</td>\n",
       "      <td>...</td>\n",
       "      <td>...</td>\n",
       "      <td>...</td>\n",
       "      <td>...</td>\n",
       "      <td>...</td>\n",
       "      <td>...</td>\n",
       "      <td>...</td>\n",
       "      <td>...</td>\n",
       "    </tr>\n",
       "    <tr>\n",
       "      <th>117</th>\n",
       "      <td>298</td>\n",
       "      <td>Vida Sport, Ltd</td>\n",
       "      <td>Holz</td>\n",
       "      <td>Mihael</td>\n",
       "      <td>0897-034555</td>\n",
       "      <td>Grenzacherweg 237</td>\n",
       "      <td>None</td>\n",
       "      <td>Genève</td>\n",
       "      <td>None</td>\n",
       "      <td>1203</td>\n",
       "      <td>Switzerland</td>\n",
       "      <td>1702.0</td>\n",
       "      <td>141300.00</td>\n",
       "    </tr>\n",
       "    <tr>\n",
       "      <th>118</th>\n",
       "      <td>181</td>\n",
       "      <td>Vitachrome Inc.</td>\n",
       "      <td>Frick</td>\n",
       "      <td>Michael</td>\n",
       "      <td>2125551500</td>\n",
       "      <td>2678 Kingston Rd.</td>\n",
       "      <td>Suite 101</td>\n",
       "      <td>NYC</td>\n",
       "      <td>NY</td>\n",
       "      <td>10022</td>\n",
       "      <td>USA</td>\n",
       "      <td>1286.0</td>\n",
       "      <td>76400.00</td>\n",
       "    </tr>\n",
       "    <tr>\n",
       "      <th>119</th>\n",
       "      <td>144</td>\n",
       "      <td>Volvo Model Replicas, Co</td>\n",
       "      <td>Berglund</td>\n",
       "      <td>Christina</td>\n",
       "      <td>0921-12 3555</td>\n",
       "      <td>Berguvsvägen  8</td>\n",
       "      <td>None</td>\n",
       "      <td>Luleå</td>\n",
       "      <td>None</td>\n",
       "      <td>S-958 22</td>\n",
       "      <td>Sweden</td>\n",
       "      <td>1504.0</td>\n",
       "      <td>53100.00</td>\n",
       "    </tr>\n",
       "    <tr>\n",
       "      <th>120</th>\n",
       "      <td>459</td>\n",
       "      <td>Warburg Exchange</td>\n",
       "      <td>Ottlieb</td>\n",
       "      <td>Sven</td>\n",
       "      <td>0241-039123</td>\n",
       "      <td>Walserweg 21</td>\n",
       "      <td>None</td>\n",
       "      <td>Aachen</td>\n",
       "      <td>None</td>\n",
       "      <td>52066</td>\n",
       "      <td>Germany</td>\n",
       "      <td>NaN</td>\n",
       "      <td>0.00</td>\n",
       "    </tr>\n",
       "    <tr>\n",
       "      <th>121</th>\n",
       "      <td>475</td>\n",
       "      <td>West Coast Collectables Co.</td>\n",
       "      <td>Thompson</td>\n",
       "      <td>Steve</td>\n",
       "      <td>3105553722</td>\n",
       "      <td>3675 Furth Circle</td>\n",
       "      <td>None</td>\n",
       "      <td>Burbank</td>\n",
       "      <td>CA</td>\n",
       "      <td>94019</td>\n",
       "      <td>USA</td>\n",
       "      <td>1166.0</td>\n",
       "      <td>55400.00</td>\n",
       "    </tr>\n",
       "  </tbody>\n",
       "</table>\n",
       "<p>122 rows × 13 columns</p>\n",
       "</div>"
      ],
      "text/plain": [
       "      0                            1         2           3              4   \\\n",
       "0    242                 Alpha Cognac    Roulet    Annette      61.77.6555   \n",
       "1    168       American Souvenirs Inc    Franco       Keith     2035557845   \n",
       "2    249           Amica Models & Co.   Accorti      Paolo     011-4988555   \n",
       "3    237                ANG Resellers    Camino  Alejandra   (91) 745 6555   \n",
       "4    276      Anna's Decorations, Ltd    O'Hara        Anna   02 9936 8555   \n",
       "..   ...                          ...       ...         ...            ...   \n",
       "117  298              Vida Sport, Ltd      Holz      Mihael    0897-034555   \n",
       "118  181              Vitachrome Inc.     Frick     Michael     2125551500   \n",
       "119  144     Volvo Model Replicas, Co  Berglund  Christina    0921-12 3555   \n",
       "120  459             Warburg Exchange   Ottlieb       Sven     0241-039123   \n",
       "121  475  West Coast Collectables Co.  Thompson       Steve     3105553722   \n",
       "\n",
       "                        5          6             7     8         9   \\\n",
       "0    1 rue Alsace-Lorraine       None      Toulouse  None     31000   \n",
       "1        149 Spinnaker Dr.  Suite 101     New Haven    CT     97823   \n",
       "2      Via Monte Bianco 34       None        Torino  None     10100   \n",
       "3              Gran Vía, 1       None        Madrid  None     28001   \n",
       "4        201 Miller Street   Level 15  North Sydney   NSW      2060   \n",
       "..                     ...        ...           ...   ...       ...   \n",
       "117      Grenzacherweg 237       None        Genève  None      1203   \n",
       "118      2678 Kingston Rd.  Suite 101           NYC    NY     10022   \n",
       "119        Berguvsvägen  8       None         Luleå  None  S-958 22   \n",
       "120           Walserweg 21       None        Aachen  None     52066   \n",
       "121      3675 Furth Circle       None       Burbank    CA     94019   \n",
       "\n",
       "              10      11         12  \n",
       "0         France  1370.0   61100.00  \n",
       "1            USA  1286.0       0.00  \n",
       "2          Italy  1401.0  113000.00  \n",
       "3          Spain     NaN       0.00  \n",
       "4      Australia  1611.0  107800.00  \n",
       "..           ...     ...        ...  \n",
       "117  Switzerland  1702.0  141300.00  \n",
       "118          USA  1286.0   76400.00  \n",
       "119       Sweden  1504.0   53100.00  \n",
       "120      Germany     NaN       0.00  \n",
       "121          USA  1166.0   55400.00  \n",
       "\n",
       "[122 rows x 13 columns]"
      ]
     },
     "execution_count": 17,
     "metadata": {},
     "output_type": "execute_result"
    }
   ],
   "source": [
    "myresult"
   ]
  },
  {
   "cell_type": "code",
   "execution_count": 18,
   "metadata": {},
   "outputs": [],
   "source": [
    "mydb = mysql.connector.connect(\n",
    "    host='localhost',\n",
    "    user='root',\n",
    "    password='Mysql1234',\n",
    "    database = 'ecommerce'\n",
    ")  "
   ]
  },
  {
   "cell_type": "code",
   "execution_count": 19,
   "metadata": {},
   "outputs": [],
   "source": [
    "cur = mydb.cursor()"
   ]
  },
  {
   "cell_type": "code",
   "execution_count": 20,
   "metadata": {},
   "outputs": [],
   "source": [
    "cur.execute(\"Select * from Categories \")"
   ]
  },
  {
   "cell_type": "code",
   "execution_count": 21,
   "metadata": {},
   "outputs": [
    {
     "name": "stdout",
     "output_type": "stream",
     "text": [
      "(1, 'Electronics')\n",
      "(2, 'Clothing')\n",
      "(3, 'Books')\n",
      "(4, 'Furniture')\n",
      "(5, 'Toys')\n",
      "(6, 'Sports')\n",
      "(7, 'Beauty')\n",
      "(8, 'Food')\n",
      "(9, 'Accessories')\n",
      "(10, 'Home Decor')\n"
     ]
    }
   ],
   "source": [
    "for i in cur:\n",
    "    print(i)"
   ]
  },
  {
   "cell_type": "code",
   "execution_count": 22,
   "metadata": {},
   "outputs": [],
   "source": [
    "cur.execute('select * from Products')"
   ]
  },
  {
   "cell_type": "code",
   "execution_count": 23,
   "metadata": {},
   "outputs": [
    {
     "name": "stdout",
     "output_type": "stream",
     "text": [
      "(1, 'Laptop', '15-inch, Core i7, 16GB RAM', Decimal('99999.99'), 50, 1)\n",
      "(2, 'Laptop', '13.5-inch, Core i5, 16GB RAM', Decimal('69990.99'), 1, 1)\n",
      "(3, 'T-shirt', 'Cotton T-shirt, size M, red color', Decimal('399.99'), 10, 2)\n",
      "(4, 'Python Programming', 'Learn Python programming from scratch', Decimal('299.90'), 20, 3)\n",
      "(5, 'The Lord of the Rings', 'An epic high fantasy novel', Decimal('400.00'), 25, 3)\n",
      "(6, 'Sofa', '3-seater fabric sofa', Decimal('1499.99'), 30, 4)\n",
      "(7, 'LEGO Set', 'Star Wars LEGO set', Decimal('799.89'), 20, 5)\n",
      "(8, 'Basketball', 'Official size basketball', Decimal('500.00'), 20, 6)\n",
      "(9, 'Shampoo', 'Moisturizing shampoo', Decimal('199.99'), 10, 7)\n",
      "(10, 'Chocolate Bar', 'Milk chocolate bar', Decimal('29.99'), 20, 8)\n",
      "(11, 'Watch', 'Analog wristwatch', Decimal('1525.99'), 5, 9)\n",
      "(12, 'Throw Pillow', 'Decorative throw pillow', Decimal('299.99'), 50, 10)\n",
      "(13, 'Laptop', '13-inch, Core i5, 16GB RAM', Decimal('79999.99'), 40, 1)\n",
      "(14, 'Shirts', 'Cotton Shirt, size L, blue color', Decimal('799.99'), 10, 2)\n",
      "(15, 'JAVA Basics', 'Learn JAVA programming from scratch', Decimal('499.09'), 25, 3)\n",
      "(16, 'Sofa', '3-seater fabric sofa', Decimal('12499.99'), 50, 4)\n",
      "(17, 'Kitchen Set', 'Barbie Kitchen set', Decimal('1909.99'), 3, 5)\n",
      "(18, 'Chess Board', 'Education Chess Board set', Decimal('599.90'), 40, 5)\n",
      "(19, 'Tic Tac Toe', 'Tic Tac Toe Classic Mind Challenging', Decimal('199.90'), 50, 5)\n",
      "(20, 'Basketball', 'Official size basketball', Decimal('1299.99'), 2, 6)\n",
      "(21, 'Shampoo', 'Moisturizing shampoo', Decimal('9.99'), 100, 7)\n",
      "(22, 'Chocolate Bar', 'Dark chocolate bar', Decimal('159.00'), 20, 8)\n",
      "(23, 'Bounty', 'Coconut & Chocolate fused bar', Decimal('59.00'), 3, 8)\n",
      "(24, 'Kit-Kat', 'Wafer Chocolate bar', Decimal('50.00'), 13, 8)\n",
      "(25, 'Watch', 'Analog wristwatch', Decimal('49.99'), 50, 9)\n",
      "(26, 'Watch', 'Smart-watch', Decimal('39899.99'), 5, 9)\n",
      "(27, 'Cotton Cartoon Pillow', 'Cartoon soft pillow for kids', Decimal('499.99'), 12, 10)\n"
     ]
    }
   ],
   "source": [
    "for i in cur:\n",
    "    print(i)"
   ]
  },
  {
   "cell_type": "markdown",
   "metadata": {},
   "source": [
    "### Joining two tables based on a condition."
   ]
  },
  {
   "cell_type": "code",
   "execution_count": 24,
   "metadata": {},
   "outputs": [],
   "source": [
    "cur.execute(\"Select *From Products  p Join Categories C on C.category_ID = p.Category_ID\")  "
   ]
  },
  {
   "cell_type": "code",
   "execution_count": 25,
   "metadata": {},
   "outputs": [
    {
     "name": "stdout",
     "output_type": "stream",
     "text": [
      "(1, 'Laptop', '15-inch, Core i7, 16GB RAM', Decimal('99999.99'), 50, 1, 1, 'Electronics')\n",
      "(2, 'Laptop', '13.5-inch, Core i5, 16GB RAM', Decimal('69990.99'), 1, 1, 1, 'Electronics')\n",
      "(13, 'Laptop', '13-inch, Core i5, 16GB RAM', Decimal('79999.99'), 40, 1, 1, 'Electronics')\n",
      "(3, 'T-shirt', 'Cotton T-shirt, size M, red color', Decimal('399.99'), 10, 2, 2, 'Clothing')\n",
      "(14, 'Shirts', 'Cotton Shirt, size L, blue color', Decimal('799.99'), 10, 2, 2, 'Clothing')\n",
      "(4, 'Python Programming', 'Learn Python programming from scratch', Decimal('299.90'), 20, 3, 3, 'Books')\n",
      "(5, 'The Lord of the Rings', 'An epic high fantasy novel', Decimal('400.00'), 25, 3, 3, 'Books')\n",
      "(15, 'JAVA Basics', 'Learn JAVA programming from scratch', Decimal('499.09'), 25, 3, 3, 'Books')\n",
      "(6, 'Sofa', '3-seater fabric sofa', Decimal('1499.99'), 30, 4, 4, 'Furniture')\n",
      "(16, 'Sofa', '3-seater fabric sofa', Decimal('12499.99'), 50, 4, 4, 'Furniture')\n",
      "(7, 'LEGO Set', 'Star Wars LEGO set', Decimal('799.89'), 20, 5, 5, 'Toys')\n",
      "(17, 'Kitchen Set', 'Barbie Kitchen set', Decimal('1909.99'), 3, 5, 5, 'Toys')\n",
      "(18, 'Chess Board', 'Education Chess Board set', Decimal('599.90'), 40, 5, 5, 'Toys')\n",
      "(19, 'Tic Tac Toe', 'Tic Tac Toe Classic Mind Challenging', Decimal('199.90'), 50, 5, 5, 'Toys')\n",
      "(8, 'Basketball', 'Official size basketball', Decimal('500.00'), 20, 6, 6, 'Sports')\n",
      "(20, 'Basketball', 'Official size basketball', Decimal('1299.99'), 2, 6, 6, 'Sports')\n",
      "(9, 'Shampoo', 'Moisturizing shampoo', Decimal('199.99'), 10, 7, 7, 'Beauty')\n",
      "(21, 'Shampoo', 'Moisturizing shampoo', Decimal('9.99'), 100, 7, 7, 'Beauty')\n",
      "(10, 'Chocolate Bar', 'Milk chocolate bar', Decimal('29.99'), 20, 8, 8, 'Food')\n",
      "(22, 'Chocolate Bar', 'Dark chocolate bar', Decimal('159.00'), 20, 8, 8, 'Food')\n",
      "(23, 'Bounty', 'Coconut & Chocolate fused bar', Decimal('59.00'), 3, 8, 8, 'Food')\n",
      "(24, 'Kit-Kat', 'Wafer Chocolate bar', Decimal('50.00'), 13, 8, 8, 'Food')\n",
      "(11, 'Watch', 'Analog wristwatch', Decimal('1525.99'), 5, 9, 9, 'Accessories')\n",
      "(25, 'Watch', 'Analog wristwatch', Decimal('49.99'), 50, 9, 9, 'Accessories')\n",
      "(26, 'Watch', 'Smart-watch', Decimal('39899.99'), 5, 9, 9, 'Accessories')\n",
      "(12, 'Throw Pillow', 'Decorative throw pillow', Decimal('299.99'), 50, 10, 10, 'Home Decor')\n",
      "(27, 'Cotton Cartoon Pillow', 'Cartoon soft pillow for kids', Decimal('499.99'), 12, 10, 10, 'Home Decor')\n"
     ]
    }
   ],
   "source": [
    "for i in cur:\n",
    "    print(i)"
   ]
  },
  {
   "cell_type": "markdown",
   "metadata": {},
   "source": [
    "* To Connect SQL in python the first thing we need to install the pymysql Library so we can connect it to our SQL server."
   ]
  },
  {
   "cell_type": "markdown",
   "metadata": {},
   "source": [
    "# pymysql"
   ]
  },
  {
   "cell_type": "code",
   "execution_count": 26,
   "metadata": {},
   "outputs": [],
   "source": [
    "#!pip install pymysql"
   ]
  },
  {
   "cell_type": "code",
   "execution_count": 27,
   "metadata": {},
   "outputs": [],
   "source": [
    "import pandas as pd    #importing all the required Library\n",
    "import numpy as np\n",
    "import pymysql"
   ]
  },
  {
   "cell_type": "code",
   "execution_count": 28,
   "metadata": {},
   "outputs": [],
   "source": [
    "conn=pymysql.connect(\n",
    "    host='localhost',\n",
    "    user='root',\n",
    "    password='Mysql1234',db='ecommerce')"
   ]
  },
  {
   "cell_type": "code",
   "execution_count": 29,
   "metadata": {},
   "outputs": [],
   "source": [
    "data=pd.read_sql('select * from ecommerce.products',conn)"
   ]
  },
  {
   "cell_type": "code",
   "execution_count": 30,
   "metadata": {},
   "outputs": [
    {
     "data": {
      "text/html": [
       "<div>\n",
       "<style scoped>\n",
       "    .dataframe tbody tr th:only-of-type {\n",
       "        vertical-align: middle;\n",
       "    }\n",
       "\n",
       "    .dataframe tbody tr th {\n",
       "        vertical-align: top;\n",
       "    }\n",
       "\n",
       "    .dataframe thead th {\n",
       "        text-align: right;\n",
       "    }\n",
       "</style>\n",
       "<table border=\"1\" class=\"dataframe\">\n",
       "  <thead>\n",
       "    <tr style=\"text-align: right;\">\n",
       "      <th></th>\n",
       "      <th>product_id</th>\n",
       "      <th>product_name</th>\n",
       "      <th>description</th>\n",
       "      <th>price</th>\n",
       "      <th>stock_quantity</th>\n",
       "      <th>category_id</th>\n",
       "    </tr>\n",
       "  </thead>\n",
       "  <tbody>\n",
       "    <tr>\n",
       "      <th>0</th>\n",
       "      <td>1</td>\n",
       "      <td>Laptop</td>\n",
       "      <td>15-inch, Core i7, 16GB RAM</td>\n",
       "      <td>99999.99</td>\n",
       "      <td>50</td>\n",
       "      <td>1</td>\n",
       "    </tr>\n",
       "    <tr>\n",
       "      <th>1</th>\n",
       "      <td>2</td>\n",
       "      <td>Laptop</td>\n",
       "      <td>13.5-inch, Core i5, 16GB RAM</td>\n",
       "      <td>69990.99</td>\n",
       "      <td>1</td>\n",
       "      <td>1</td>\n",
       "    </tr>\n",
       "    <tr>\n",
       "      <th>2</th>\n",
       "      <td>3</td>\n",
       "      <td>T-shirt</td>\n",
       "      <td>Cotton T-shirt, size M, red color</td>\n",
       "      <td>399.99</td>\n",
       "      <td>10</td>\n",
       "      <td>2</td>\n",
       "    </tr>\n",
       "    <tr>\n",
       "      <th>3</th>\n",
       "      <td>4</td>\n",
       "      <td>Python Programming</td>\n",
       "      <td>Learn Python programming from scratch</td>\n",
       "      <td>299.90</td>\n",
       "      <td>20</td>\n",
       "      <td>3</td>\n",
       "    </tr>\n",
       "    <tr>\n",
       "      <th>4</th>\n",
       "      <td>5</td>\n",
       "      <td>The Lord of the Rings</td>\n",
       "      <td>An epic high fantasy novel</td>\n",
       "      <td>400.00</td>\n",
       "      <td>25</td>\n",
       "      <td>3</td>\n",
       "    </tr>\n",
       "  </tbody>\n",
       "</table>\n",
       "</div>"
      ],
      "text/plain": [
       "   product_id           product_name                            description  \\\n",
       "0           1                 Laptop             15-inch, Core i7, 16GB RAM   \n",
       "1           2                 Laptop           13.5-inch, Core i5, 16GB RAM   \n",
       "2           3                T-shirt      Cotton T-shirt, size M, red color   \n",
       "3           4     Python Programming  Learn Python programming from scratch   \n",
       "4           5  The Lord of the Rings             An epic high fantasy novel   \n",
       "\n",
       "      price  stock_quantity  category_id  \n",
       "0  99999.99              50            1  \n",
       "1  69990.99               1            1  \n",
       "2    399.99              10            2  \n",
       "3    299.90              20            3  \n",
       "4    400.00              25            3  "
      ]
     },
     "execution_count": 30,
     "metadata": {},
     "output_type": "execute_result"
    }
   ],
   "source": [
    "data.head()"
   ]
  },
  {
   "cell_type": "code",
   "execution_count": null,
   "metadata": {},
   "outputs": [],
   "source": []
  },
  {
   "cell_type": "markdown",
   "metadata": {},
   "source": [
    "### Using Where Clause and Sub-Query"
   ]
  },
  {
   "cell_type": "code",
   "execution_count": 31,
   "metadata": {},
   "outputs": [],
   "source": [
    "df=pd.read_sql ('select * from products where price>(Select avg(price) from products)',conn)\n"
   ]
  },
  {
   "cell_type": "code",
   "execution_count": 32,
   "metadata": {},
   "outputs": [
    {
     "data": {
      "text/html": [
       "<div>\n",
       "<style scoped>\n",
       "    .dataframe tbody tr th:only-of-type {\n",
       "        vertical-align: middle;\n",
       "    }\n",
       "\n",
       "    .dataframe tbody tr th {\n",
       "        vertical-align: top;\n",
       "    }\n",
       "\n",
       "    .dataframe thead th {\n",
       "        text-align: right;\n",
       "    }\n",
       "</style>\n",
       "<table border=\"1\" class=\"dataframe\">\n",
       "  <thead>\n",
       "    <tr style=\"text-align: right;\">\n",
       "      <th></th>\n",
       "      <th>product_id</th>\n",
       "      <th>product_name</th>\n",
       "      <th>description</th>\n",
       "      <th>price</th>\n",
       "      <th>stock_quantity</th>\n",
       "      <th>category_id</th>\n",
       "    </tr>\n",
       "  </thead>\n",
       "  <tbody>\n",
       "    <tr>\n",
       "      <th>0</th>\n",
       "      <td>1</td>\n",
       "      <td>Laptop</td>\n",
       "      <td>15-inch, Core i7, 16GB RAM</td>\n",
       "      <td>99999.99</td>\n",
       "      <td>50</td>\n",
       "      <td>1</td>\n",
       "    </tr>\n",
       "    <tr>\n",
       "      <th>1</th>\n",
       "      <td>2</td>\n",
       "      <td>Laptop</td>\n",
       "      <td>13.5-inch, Core i5, 16GB RAM</td>\n",
       "      <td>69990.99</td>\n",
       "      <td>1</td>\n",
       "      <td>1</td>\n",
       "    </tr>\n",
       "    <tr>\n",
       "      <th>2</th>\n",
       "      <td>13</td>\n",
       "      <td>Laptop</td>\n",
       "      <td>13-inch, Core i5, 16GB RAM</td>\n",
       "      <td>79999.99</td>\n",
       "      <td>40</td>\n",
       "      <td>1</td>\n",
       "    </tr>\n",
       "    <tr>\n",
       "      <th>3</th>\n",
       "      <td>16</td>\n",
       "      <td>Sofa</td>\n",
       "      <td>3-seater fabric sofa</td>\n",
       "      <td>12499.99</td>\n",
       "      <td>50</td>\n",
       "      <td>4</td>\n",
       "    </tr>\n",
       "    <tr>\n",
       "      <th>4</th>\n",
       "      <td>26</td>\n",
       "      <td>Watch</td>\n",
       "      <td>Smart-watch</td>\n",
       "      <td>39899.99</td>\n",
       "      <td>5</td>\n",
       "      <td>9</td>\n",
       "    </tr>\n",
       "  </tbody>\n",
       "</table>\n",
       "</div>"
      ],
      "text/plain": [
       "   product_id product_name                   description     price  \\\n",
       "0           1       Laptop    15-inch, Core i7, 16GB RAM  99999.99   \n",
       "1           2       Laptop  13.5-inch, Core i5, 16GB RAM  69990.99   \n",
       "2          13       Laptop    13-inch, Core i5, 16GB RAM  79999.99   \n",
       "3          16         Sofa          3-seater fabric sofa  12499.99   \n",
       "4          26        Watch                   Smart-watch  39899.99   \n",
       "\n",
       "   stock_quantity  category_id  \n",
       "0              50            1  \n",
       "1               1            1  \n",
       "2              40            1  \n",
       "3              50            4  \n",
       "4               5            9  "
      ]
     },
     "execution_count": 32,
     "metadata": {},
     "output_type": "execute_result"
    }
   ],
   "source": [
    "df.head()"
   ]
  },
  {
   "cell_type": "markdown",
   "metadata": {},
   "source": [
    "In the Data we can see there are 3 Products Which are Above than Avg price of the Products. \n",
    "1. Laptop \n",
    "2. Sofa \n",
    "3. Watch"
   ]
  },
  {
   "cell_type": "markdown",
   "metadata": {},
   "source": [
    "### using Like Oprator."
   ]
  },
  {
   "cell_type": "code",
   "execution_count": 33,
   "metadata": {
    "scrolled": true
   },
   "outputs": [],
   "source": [
    "data=pd.read_sql('select * from products where description like \"%chocolate%\"',conn)"
   ]
  },
  {
   "cell_type": "code",
   "execution_count": 34,
   "metadata": {},
   "outputs": [
    {
     "data": {
      "text/html": [
       "<div>\n",
       "<style scoped>\n",
       "    .dataframe tbody tr th:only-of-type {\n",
       "        vertical-align: middle;\n",
       "    }\n",
       "\n",
       "    .dataframe tbody tr th {\n",
       "        vertical-align: top;\n",
       "    }\n",
       "\n",
       "    .dataframe thead th {\n",
       "        text-align: right;\n",
       "    }\n",
       "</style>\n",
       "<table border=\"1\" class=\"dataframe\">\n",
       "  <thead>\n",
       "    <tr style=\"text-align: right;\">\n",
       "      <th></th>\n",
       "      <th>product_id</th>\n",
       "      <th>product_name</th>\n",
       "      <th>description</th>\n",
       "      <th>price</th>\n",
       "      <th>stock_quantity</th>\n",
       "      <th>category_id</th>\n",
       "    </tr>\n",
       "  </thead>\n",
       "  <tbody>\n",
       "    <tr>\n",
       "      <th>0</th>\n",
       "      <td>10</td>\n",
       "      <td>Chocolate Bar</td>\n",
       "      <td>Milk chocolate bar</td>\n",
       "      <td>29.99</td>\n",
       "      <td>20</td>\n",
       "      <td>8</td>\n",
       "    </tr>\n",
       "    <tr>\n",
       "      <th>1</th>\n",
       "      <td>22</td>\n",
       "      <td>Chocolate Bar</td>\n",
       "      <td>Dark chocolate bar</td>\n",
       "      <td>159.00</td>\n",
       "      <td>20</td>\n",
       "      <td>8</td>\n",
       "    </tr>\n",
       "    <tr>\n",
       "      <th>2</th>\n",
       "      <td>23</td>\n",
       "      <td>Bounty</td>\n",
       "      <td>Coconut &amp; Chocolate fused bar</td>\n",
       "      <td>59.00</td>\n",
       "      <td>3</td>\n",
       "      <td>8</td>\n",
       "    </tr>\n",
       "    <tr>\n",
       "      <th>3</th>\n",
       "      <td>24</td>\n",
       "      <td>Kit-Kat</td>\n",
       "      <td>Wafer Chocolate bar</td>\n",
       "      <td>50.00</td>\n",
       "      <td>13</td>\n",
       "      <td>8</td>\n",
       "    </tr>\n",
       "  </tbody>\n",
       "</table>\n",
       "</div>"
      ],
      "text/plain": [
       "   product_id   product_name                    description   price  \\\n",
       "0          10  Chocolate Bar             Milk chocolate bar   29.99   \n",
       "1          22  Chocolate Bar             Dark chocolate bar  159.00   \n",
       "2          23         Bounty  Coconut & Chocolate fused bar   59.00   \n",
       "3          24        Kit-Kat            Wafer Chocolate bar   50.00   \n",
       "\n",
       "   stock_quantity  category_id  \n",
       "0              20            8  \n",
       "1              20            8  \n",
       "2               3            8  \n",
       "3              13            8  "
      ]
     },
     "execution_count": 34,
     "metadata": {},
     "output_type": "execute_result"
    }
   ],
   "source": [
    "data.head()"
   ]
  },
  {
   "cell_type": "markdown",
   "metadata": {},
   "source": [
    "By using Like Oprator we were able to Filter the Data. "
   ]
  },
  {
   "cell_type": "markdown",
   "metadata": {},
   "source": [
    "### using Group BY And Inner Join."
   ]
  },
  {
   "cell_type": "code",
   "execution_count": 35,
   "metadata": {},
   "outputs": [],
   "source": [
    "data=pd.read_sql('''Select category_name,count(*) as `No of products` \n",
    "from products\n",
    "inner join categories using (category_id)\n",
    "group by category_name \n",
    "having `no of products`>=3\n",
    "order by `no of products` desc; ''',conn)"
   ]
  },
  {
   "cell_type": "code",
   "execution_count": 36,
   "metadata": {},
   "outputs": [
    {
     "data": {
      "text/html": [
       "<div>\n",
       "<style scoped>\n",
       "    .dataframe tbody tr th:only-of-type {\n",
       "        vertical-align: middle;\n",
       "    }\n",
       "\n",
       "    .dataframe tbody tr th {\n",
       "        vertical-align: top;\n",
       "    }\n",
       "\n",
       "    .dataframe thead th {\n",
       "        text-align: right;\n",
       "    }\n",
       "</style>\n",
       "<table border=\"1\" class=\"dataframe\">\n",
       "  <thead>\n",
       "    <tr style=\"text-align: right;\">\n",
       "      <th></th>\n",
       "      <th>category_name</th>\n",
       "      <th>No of products</th>\n",
       "    </tr>\n",
       "  </thead>\n",
       "  <tbody>\n",
       "    <tr>\n",
       "      <th>0</th>\n",
       "      <td>Toys</td>\n",
       "      <td>4</td>\n",
       "    </tr>\n",
       "    <tr>\n",
       "      <th>1</th>\n",
       "      <td>Food</td>\n",
       "      <td>4</td>\n",
       "    </tr>\n",
       "    <tr>\n",
       "      <th>2</th>\n",
       "      <td>Electronics</td>\n",
       "      <td>3</td>\n",
       "    </tr>\n",
       "    <tr>\n",
       "      <th>3</th>\n",
       "      <td>Books</td>\n",
       "      <td>3</td>\n",
       "    </tr>\n",
       "    <tr>\n",
       "      <th>4</th>\n",
       "      <td>Accessories</td>\n",
       "      <td>3</td>\n",
       "    </tr>\n",
       "  </tbody>\n",
       "</table>\n",
       "</div>"
      ],
      "text/plain": [
       "  category_name  No of products\n",
       "0          Toys               4\n",
       "1          Food               4\n",
       "2   Electronics               3\n",
       "3         Books               3\n",
       "4   Accessories               3"
      ]
     },
     "execution_count": 36,
     "metadata": {},
     "output_type": "execute_result"
    }
   ],
   "source": [
    "data.head()"
   ]
  },
  {
   "cell_type": "markdown",
   "metadata": {},
   "source": [
    "As we can Most of the Products belongs to the Toys,Food,Electrnics,Books,Accessories."
   ]
  },
  {
   "cell_type": "markdown",
   "metadata": {},
   "source": [
    "### using Union based on a Condition.\n",
    "In SQL, the UNION operator is used to combine the results of two or more SELECT statements into a single result set.  It's a way to vertically append datasets\n",
    "The standard UNION operator automatically eliminates duplicate rows from the combined result set.  This ensures that each row appears only once, even if it was present in multiple original queries.\n",
    "Requires Compatible Columns:  To use UNION, the SELECT statements being combined must have:\n",
    "* The same number of columns.\n",
    "* Columns in the same order.\n",
    "* Compatible data types for corresponding columns (e.g., you can't combine a column of strings with a column of numbers).\n"
   ]
  },
  {
   "cell_type": "code",
   "execution_count": 37,
   "metadata": {},
   "outputs": [],
   "source": [
    "data=pd.read_sql('Select customer_id from customers union all select customer_id from  orders',conn)"
   ]
  },
  {
   "cell_type": "code",
   "execution_count": 38,
   "metadata": {
    "scrolled": true
   },
   "outputs": [
    {
     "data": {
      "text/html": [
       "<div>\n",
       "<style scoped>\n",
       "    .dataframe tbody tr th:only-of-type {\n",
       "        vertical-align: middle;\n",
       "    }\n",
       "\n",
       "    .dataframe tbody tr th {\n",
       "        vertical-align: top;\n",
       "    }\n",
       "\n",
       "    .dataframe thead th {\n",
       "        text-align: right;\n",
       "    }\n",
       "</style>\n",
       "<table border=\"1\" class=\"dataframe\">\n",
       "  <thead>\n",
       "    <tr style=\"text-align: right;\">\n",
       "      <th></th>\n",
       "      <th>customer_id</th>\n",
       "    </tr>\n",
       "  </thead>\n",
       "  <tbody>\n",
       "    <tr>\n",
       "      <th>0</th>\n",
       "      <td>1</td>\n",
       "    </tr>\n",
       "    <tr>\n",
       "      <th>1</th>\n",
       "      <td>2</td>\n",
       "    </tr>\n",
       "    <tr>\n",
       "      <th>2</th>\n",
       "      <td>3</td>\n",
       "    </tr>\n",
       "    <tr>\n",
       "      <th>3</th>\n",
       "      <td>4</td>\n",
       "    </tr>\n",
       "    <tr>\n",
       "      <th>4</th>\n",
       "      <td>5</td>\n",
       "    </tr>\n",
       "  </tbody>\n",
       "</table>\n",
       "</div>"
      ],
      "text/plain": [
       "   customer_id\n",
       "0            1\n",
       "1            2\n",
       "2            3\n",
       "3            4\n",
       "4            5"
      ]
     },
     "execution_count": 38,
     "metadata": {},
     "output_type": "execute_result"
    }
   ],
   "source": [
    "data.head()"
   ]
  },
  {
   "cell_type": "code",
   "execution_count": 39,
   "metadata": {},
   "outputs": [
    {
     "data": {
      "text/html": [
       "<div>\n",
       "<style scoped>\n",
       "    .dataframe tbody tr th:only-of-type {\n",
       "        vertical-align: middle;\n",
       "    }\n",
       "\n",
       "    .dataframe tbody tr th {\n",
       "        vertical-align: top;\n",
       "    }\n",
       "\n",
       "    .dataframe thead th {\n",
       "        text-align: right;\n",
       "    }\n",
       "</style>\n",
       "<table border=\"1\" class=\"dataframe\">\n",
       "  <thead>\n",
       "    <tr style=\"text-align: right;\">\n",
       "      <th></th>\n",
       "      <th>product_id</th>\n",
       "      <th>product_name</th>\n",
       "      <th>description</th>\n",
       "      <th>price</th>\n",
       "      <th>stock_quantity</th>\n",
       "      <th>category_id</th>\n",
       "    </tr>\n",
       "  </thead>\n",
       "  <tbody>\n",
       "    <tr>\n",
       "      <th>0</th>\n",
       "      <td>1</td>\n",
       "      <td>Laptop</td>\n",
       "      <td>15-inch, Core i7, 16GB RAM</td>\n",
       "      <td>99999.99</td>\n",
       "      <td>50</td>\n",
       "      <td>1</td>\n",
       "    </tr>\n",
       "    <tr>\n",
       "      <th>1</th>\n",
       "      <td>2</td>\n",
       "      <td>Laptop</td>\n",
       "      <td>13.5-inch, Core i5, 16GB RAM</td>\n",
       "      <td>69990.99</td>\n",
       "      <td>1</td>\n",
       "      <td>1</td>\n",
       "    </tr>\n",
       "    <tr>\n",
       "      <th>2</th>\n",
       "      <td>13</td>\n",
       "      <td>Laptop</td>\n",
       "      <td>13-inch, Core i5, 16GB RAM</td>\n",
       "      <td>79999.99</td>\n",
       "      <td>40</td>\n",
       "      <td>1</td>\n",
       "    </tr>\n",
       "    <tr>\n",
       "      <th>3</th>\n",
       "      <td>10</td>\n",
       "      <td>Chocolate Bar</td>\n",
       "      <td>Milk chocolate bar</td>\n",
       "      <td>29.99</td>\n",
       "      <td>20</td>\n",
       "      <td>8</td>\n",
       "    </tr>\n",
       "    <tr>\n",
       "      <th>4</th>\n",
       "      <td>22</td>\n",
       "      <td>Chocolate Bar</td>\n",
       "      <td>Dark chocolate bar</td>\n",
       "      <td>159.00</td>\n",
       "      <td>20</td>\n",
       "      <td>8</td>\n",
       "    </tr>\n",
       "    <tr>\n",
       "      <th>5</th>\n",
       "      <td>23</td>\n",
       "      <td>Bounty</td>\n",
       "      <td>Coconut &amp; Chocolate fused bar</td>\n",
       "      <td>59.00</td>\n",
       "      <td>3</td>\n",
       "      <td>8</td>\n",
       "    </tr>\n",
       "    <tr>\n",
       "      <th>6</th>\n",
       "      <td>24</td>\n",
       "      <td>Kit-Kat</td>\n",
       "      <td>Wafer Chocolate bar</td>\n",
       "      <td>50.00</td>\n",
       "      <td>13</td>\n",
       "      <td>8</td>\n",
       "    </tr>\n",
       "  </tbody>\n",
       "</table>\n",
       "</div>"
      ],
      "text/plain": [
       "   product_id   product_name                    description     price  \\\n",
       "0           1         Laptop     15-inch, Core i7, 16GB RAM  99999.99   \n",
       "1           2         Laptop   13.5-inch, Core i5, 16GB RAM  69990.99   \n",
       "2          13         Laptop     13-inch, Core i5, 16GB RAM  79999.99   \n",
       "3          10  Chocolate Bar             Milk chocolate bar     29.99   \n",
       "4          22  Chocolate Bar             Dark chocolate bar    159.00   \n",
       "5          23         Bounty  Coconut & Chocolate fused bar     59.00   \n",
       "6          24        Kit-Kat            Wafer Chocolate bar     50.00   \n",
       "\n",
       "   stock_quantity  category_id  \n",
       "0              50            1  \n",
       "1               1            1  \n",
       "2              40            1  \n",
       "3              20            8  \n",
       "4              20            8  \n",
       "5               3            8  \n",
       "6              13            8  "
      ]
     },
     "execution_count": 39,
     "metadata": {},
     "output_type": "execute_result"
    }
   ],
   "source": [
    "data=pd.read_sql('select * \n",
    "from products \n",
    "where product_name=\"Laptop\" union \n",
    "Select * from products where description like \"%chocolate%\";',conn)\n",
    "data"
   ]
  },
  {
   "cell_type": "markdown",
   "metadata": {},
   "source": [
    "# Ploting a Grapgh on SQL database."
   ]
  },
  {
   "cell_type": "code",
   "execution_count": 40,
   "metadata": {},
   "outputs": [],
   "source": [
    "import matplotlib.pyplot as plt\n",
    "import seaborn as sns"
   ]
  },
  {
   "cell_type": "code",
   "execution_count": 41,
   "metadata": {},
   "outputs": [],
   "source": [
    "data = pd.read_sql('select * from ecommerce.products',conn)"
   ]
  },
  {
   "cell_type": "code",
   "execution_count": 42,
   "metadata": {},
   "outputs": [],
   "source": [
    "data = pd.DataFrame(data)"
   ]
  },
  {
   "cell_type": "code",
   "execution_count": 43,
   "metadata": {},
   "outputs": [
    {
     "name": "stdout",
     "output_type": "stream",
     "text": [
      "    product_id           product_name                            description  \\\n",
      "0            1                 Laptop             15-inch, Core i7, 16GB RAM   \n",
      "1            2                 Laptop           13.5-inch, Core i5, 16GB RAM   \n",
      "2            3                T-shirt      Cotton T-shirt, size M, red color   \n",
      "3            4     Python Programming  Learn Python programming from scratch   \n",
      "4            5  The Lord of the Rings             An epic high fantasy novel   \n",
      "5            6                   Sofa                   3-seater fabric sofa   \n",
      "6            7               LEGO Set                     Star Wars LEGO set   \n",
      "7            8             Basketball               Official size basketball   \n",
      "8            9                Shampoo                   Moisturizing shampoo   \n",
      "9           10          Chocolate Bar                     Milk chocolate bar   \n",
      "10          11                  Watch                      Analog wristwatch   \n",
      "11          12           Throw Pillow                Decorative throw pillow   \n",
      "12          13                 Laptop             13-inch, Core i5, 16GB RAM   \n",
      "13          14                 Shirts       Cotton Shirt, size L, blue color   \n",
      "14          15            JAVA Basics    Learn JAVA programming from scratch   \n",
      "15          16                   Sofa                   3-seater fabric sofa   \n",
      "16          17            Kitchen Set                     Barbie Kitchen set   \n",
      "17          18            Chess Board              Education Chess Board set   \n",
      "18          19            Tic Tac Toe   Tic Tac Toe Classic Mind Challenging   \n",
      "19          20             Basketball               Official size basketball   \n",
      "20          21                Shampoo                   Moisturizing shampoo   \n",
      "21          22          Chocolate Bar                     Dark chocolate bar   \n",
      "22          23                 Bounty          Coconut & Chocolate fused bar   \n",
      "23          24                Kit-Kat                    Wafer Chocolate bar   \n",
      "24          25                  Watch                      Analog wristwatch   \n",
      "25          26                  Watch                            Smart-watch   \n",
      "26          27  Cotton Cartoon Pillow           Cartoon soft pillow for kids   \n",
      "\n",
      "       price  stock_quantity  category_id  \n",
      "0   99999.99              50            1  \n",
      "1   69990.99               1            1  \n",
      "2     399.99              10            2  \n",
      "3     299.90              20            3  \n",
      "4     400.00              25            3  \n",
      "5    1499.99              30            4  \n",
      "6     799.89              20            5  \n",
      "7     500.00              20            6  \n",
      "8     199.99              10            7  \n",
      "9      29.99              20            8  \n",
      "10   1525.99               5            9  \n",
      "11    299.99              50           10  \n",
      "12  79999.99              40            1  \n",
      "13    799.99              10            2  \n",
      "14    499.09              25            3  \n",
      "15  12499.99              50            4  \n",
      "16   1909.99               3            5  \n",
      "17    599.90              40            5  \n",
      "18    199.90              50            5  \n",
      "19   1299.99               2            6  \n",
      "20      9.99             100            7  \n",
      "21    159.00              20            8  \n",
      "22     59.00               3            8  \n",
      "23     50.00              13            8  \n",
      "24     49.99              50            9  \n",
      "25  39899.99               5            9  \n",
      "26    499.99              12           10  \n"
     ]
    }
   ],
   "source": [
    "print(data)"
   ]
  },
  {
   "cell_type": "code",
   "execution_count": 44,
   "metadata": {},
   "outputs": [
    {
     "data": {
      "image/png": "[encoded data removed]",
      "text/plain": [
       "<Figure size 800x600 with 1 Axes>"
      ]
     },
     "metadata": {},
     "output_type": "display_data"
    }
   ],
   "source": [
    "\n",
    "\n",
    "# 1. Product Name vs. Price (Scatter Plot)\n",
    "plt.figure(figsize=(8, 6))  # Set figure size for readability\n",
    "plt.scatter(data['product_name'],data['price'])  # Scatter plot\n",
    "plt.xlabel('Product Name')\n",
    "plt.ylabel('Price')\n",
    "plt.title('Product Price Distribution')\n",
    "plt.xticks(rotation=90)  # Rotate x-axis labels for better readability with long names\n",
    "plt.tight_layout()  # Adjust spacing for better layout\n",
    "plt.show()\n"
   ]
  },
  {
   "cell_type": "markdown",
   "metadata": {},
   "source": [
    "By this Scatter plot we can see Watch sofa and Laptop has a Higher price and Other products are comeritavily low."
   ]
  },
  {
   "cell_type": "code",
   "execution_count": 45,
   "metadata": {},
   "outputs": [
    {
     "data": {
      "image/png": "[encoded data removed]",
      "text/plain": [
       "<Figure size 800x600 with 1 Axes>"
      ]
     },
     "metadata": {},
     "output_type": "display_data"
    }
   ],
   "source": [
    "\n",
    "# 2. Product Name vs. Stock Quantity (Bar Chart)\n",
    "plt.figure(figsize=(8, 6))\n",
    "plt.bar(data['product_name'], data['stock_quantity'])  # Bar chart\n",
    "plt.xlabel('Product Name')\n",
    "plt.ylabel('Stock Quantity')\n",
    "plt.title('Product Stock Availability')\n",
    "plt.xticks(rotation=90)\n",
    "plt.tight_layout()\n",
    "plt.show()"
   ]
  },
  {
   "cell_type": "markdown",
   "metadata": {},
   "source": [
    "Here In the Graph we can see kitchen-set, Bounty has least amount of Stock and shampoo is the Highest."
   ]
  },
  {
   "cell_type": "code",
   "execution_count": 46,
   "metadata": {},
   "outputs": [],
   "source": [
    "data = pd.read_sql(\"select * from ecommerce.orders\",conn)"
   ]
  },
  {
   "cell_type": "code",
   "execution_count": 47,
   "metadata": {},
   "outputs": [],
   "source": [
    "data = pd.DataFrame(data)"
   ]
  },
  {
   "cell_type": "code",
   "execution_count": 48,
   "metadata": {},
   "outputs": [
    {
     "data": {
      "text/html": [
       "<div>\n",
       "<style scoped>\n",
       "    .dataframe tbody tr th:only-of-type {\n",
       "        vertical-align: middle;\n",
       "    }\n",
       "\n",
       "    .dataframe tbody tr th {\n",
       "        vertical-align: top;\n",
       "    }\n",
       "\n",
       "    .dataframe thead th {\n",
       "        text-align: right;\n",
       "    }\n",
       "</style>\n",
       "<table border=\"1\" class=\"dataframe\">\n",
       "  <thead>\n",
       "    <tr style=\"text-align: right;\">\n",
       "      <th></th>\n",
       "      <th>order_id</th>\n",
       "      <th>customer_id</th>\n",
       "      <th>order_date</th>\n",
       "      <th>total_amount</th>\n",
       "      <th>status</th>\n",
       "    </tr>\n",
       "  </thead>\n",
       "  <tbody>\n",
       "    <tr>\n",
       "      <th>0</th>\n",
       "      <td>1</td>\n",
       "      <td>1</td>\n",
       "      <td>2024-01-05</td>\n",
       "      <td>1429.99</td>\n",
       "      <td>delivered</td>\n",
       "    </tr>\n",
       "    <tr>\n",
       "      <th>1</th>\n",
       "      <td>2</td>\n",
       "      <td>1</td>\n",
       "      <td>2023-07-10</td>\n",
       "      <td>4529.99</td>\n",
       "      <td>delivered</td>\n",
       "    </tr>\n",
       "    <tr>\n",
       "      <th>2</th>\n",
       "      <td>3</td>\n",
       "      <td>2</td>\n",
       "      <td>2024-03-06</td>\n",
       "      <td>2999.99</td>\n",
       "      <td>shipped</td>\n",
       "    </tr>\n",
       "    <tr>\n",
       "      <th>3</th>\n",
       "      <td>4</td>\n",
       "      <td>2</td>\n",
       "      <td>2023-01-05</td>\n",
       "      <td>4529.99</td>\n",
       "      <td>delivered</td>\n",
       "    </tr>\n",
       "    <tr>\n",
       "      <th>4</th>\n",
       "      <td>5</td>\n",
       "      <td>1</td>\n",
       "      <td>2024-03-05</td>\n",
       "      <td>1429.99</td>\n",
       "      <td>pending</td>\n",
       "    </tr>\n",
       "  </tbody>\n",
       "</table>\n",
       "</div>"
      ],
      "text/plain": [
       "   order_id  customer_id  order_date  total_amount     status\n",
       "0         1            1  2024-01-05       1429.99  delivered\n",
       "1         2            1  2023-07-10       4529.99  delivered\n",
       "2         3            2  2024-03-06       2999.99    shipped\n",
       "3         4            2  2023-01-05       4529.99  delivered\n",
       "4         5            1  2024-03-05       1429.99    pending"
      ]
     },
     "execution_count": 48,
     "metadata": {},
     "output_type": "execute_result"
    }
   ],
   "source": [
    "data.head()"
   ]
  },
  {
   "cell_type": "code",
   "execution_count": 49,
   "metadata": {},
   "outputs": [
    {
     "data": {
      "image/png": "[encoded data removed]",
      "text/plain": [
       "<Figure size 800x600 with 1 Axes>"
      ]
     },
     "metadata": {},
     "output_type": "display_data"
    }
   ],
   "source": [
    "status_counts = data['status'].value_counts()\n",
    "\n",
    "# Create a count plot\n",
    "plt.figure(figsize=(8, 6))\n",
    "plt.bar(status_counts.index, status_counts.values)  # Plot bar chart\n",
    "plt.xlabel('Order Status')\n",
    "plt.ylabel('Count')\n",
    "plt.title('Frequency of Order Statuses')\n",
    "plt.xticks(rotation=45)  # Rotate x-axis labels for better readability\n",
    "plt.tight_layout()\n",
    "plt.show()"
   ]
  },
  {
   "cell_type": "markdown",
   "metadata": {},
   "source": [
    " As we can More than 65% Oders has been Mark as delivered."
   ]
  },
  {
   "cell_type": "markdown",
   "metadata": {},
   "source": [
    "# conclusion"
   ]
  },
  {
   "cell_type": "markdown",
   "metadata": {},
   "source": [
    "Benefits of Integrating SQL with Python:\n",
    "\n",
    "* Data Retrieval: Fetch specific data from databases into your Python environment for analyis and visualization.\n",
    "* Data Storage: Store data generated or processed in Python directly into databases for persistence and sharing.\n",
    "* Data Manipulation: Update or delete records in the database based on conditions or calculations performed in Python.\n",
    "* Automation: Automate database tasks using Python scripts, improving efficiency and reducing manual effort."
   ]
  }
 ],
 "metadata": {
  "kernelspec": {
   "display_name": "Python 3 (ipykernel)",
   "language": "python",
   "name": "python3"
  },
  "language_info": {
   "codemirror_mode": {
    "name": "ipython",
    "version": 3
   },
   "file_extension": ".py",
   "mimetype": "text/x-python",
   "name": "python",
   "nbconvert_exporter": "python",
   "pygments_lexer": "ipython3",
   "version": "3.11.5"
  }
 },
 "nbformat": 4,
 "nbformat_minor": 4
}
